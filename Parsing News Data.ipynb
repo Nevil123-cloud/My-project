{
 "cells": [
  {
   "cell_type": "code",
   "execution_count": null,
   "metadata": {},
   "outputs": [],
   "source": [
    "import geonamescache\n",
    "import re\n",
    "import pandas as pd\n",
    "from IPython.display import display"
   ]
  },
  {
   "cell_type": "code",
   "execution_count": null,
   "metadata": {
    "tags": []
   },
   "outputs": [],
   "source": [
    "regex_separator = '|'\n",
    "countries_with_separator = regex_separator.join(countries)\n",
    "country_regex = r'\\b({})\\b'.format(countries_with_separator)\n",
    "compiled_country_regex = re.compile(country_regex)\n",
    "\n",
    "cities_with_separator = regex_separator.join(cities)\n",
    "city_regex = r'\\b({})\\b'.format(cities_with_separator)\n",
    "compiled_city_regex = re.compile(city_regex)"
   ]
  },
  {
   "cell_type": "code",
   "execution_count": null,
   "metadata": {
    "tags": []
   },
   "outputs": [],
   "source": [
    "headlines = open(\"./data/headlines.txt\", \"r\")\n",
    "df_city_data = pd.DataFrame(None, columns=['headline', 'city', 'country']) \n",
    "for sample in headlines:\n",
    "    country_match = compiled_country_regex.search(sample)\n",
    "    city_match = compiled_city_regex.search(sample)\n",
    "    found_country = country_match.group(0) if country_match else None\n",
    "    found_city = city_match.group(0) if city_match else None\n",
    "    city_data = {\"headline\": sample, \"city\": found_city, \"country\":found_country}\n",
    "    df_city_data = df_city_data.append(city_data, ignore_index=True)\n"
   ]
  },
  {
   "cell_type": "code",
   "execution_count": null,
   "metadata": {},
   "outputs": [],
   "source": [
    "display(df_city_data)"
   ]
  }
 ],
 "metadata": {
  "kernelspec": {
   "display_name": "Python 3.7.8 64-bit ('discovering-disease-outbreaks': conda)",
   "language": "python",
   "name": "python_defaultSpec_1599331085734"
  },
  "language_info": {
   "codemirror_mode": {
    "name": "ipython",
    "version": 3
   },
   "file_extension": ".py",
   "mimetype": "text/x-python",
   "name": "python",
   "nbconvert_exporter": "python",
   "pygments_lexer": "ipython3",
   "version": "3.7.8-final"
  }
 },
 "nbformat": 4,
 "nbformat_minor": 4
}