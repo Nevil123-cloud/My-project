{
 "cells": [
  {
   "cell_type": "code",
   "execution_count": null,
   "metadata": {},
   "outputs": [],
   "source": [
    "import geonamescache\n",
    "import re"
   ]
  },
  {
   "cell_type": "code",
   "execution_count": null,
   "metadata": {
    "tags": [
     "outputPrepend"
    ]
   },
   "outputs": [],
   "source": [
    "gc = geonamescache.GeonamesCache()\n",
    "countries = list(gc.get_countries_by_names().keys())\n",
    "cities = list(map(lambda city: city['name'], gc.get_cities().values()))\n",
    "print(cities)"
   ]
  },
  {
   "cell_type": "code",
   "execution_count": null,
   "metadata": {
    "tags": []
   },
   "outputs": [],
   "source": [
    "regex_separator = '|'\n",
    "countries_with_separator = regex_separator.join(countries)\n",
    "country_regex = r'\\b({})\\b'.format(countries_with_separator)\n",
    "compiled_country_regex = re.compile(country_regex)\n",
    "\n",
    "cities_with_separator = regex_separator.join(cities)\n",
    "city_regex = r'\\b({})\\b'.format(cities_with_separator)\n",
    "compiled_city_regex = re.compile(city_regex)"
   ]
  },
  {
   "cell_type": "code",
   "execution_count": null,
   "metadata": {
    "tags": [
     "outputPrepend"
    ]
   },
   "outputs": [],
   "source": [
    "headlines = open(\"./data/headlines.txt\", \"r\")\n",
    "for sample in headlines:\n",
    "    country_match = compiled_country_regex.search(sample)\n",
    "    city_match = compiled_city_regex.search(sample)\n",
    "    if country_match:\n",
    "        print(country_match)\n",
    "    if city_match:\n",
    "        print(city_match)"
   ]
  },
  {
   "cell_type": "code",
   "execution_count": null,
   "metadata": {},
   "outputs": [],
   "source": []
  }
 ],
 "metadata": {
  "kernelspec": {
   "display_name": "Python 3.7.8 64-bit ('discovering-disease-outbreaks': conda)",
   "language": "python",
   "name": "python_defaultSpec_1599331085734"
  },
  "language_info": {
   "codemirror_mode": {
    "name": "ipython",
    "version": 3
   },
   "file_extension": ".py",
   "mimetype": "text/x-python",
   "name": "python",
   "nbconvert_exporter": "python",
   "pygments_lexer": "ipython3",
   "version": "3.7.8-final"
  }
 },
 "nbformat": 4,
 "nbformat_minor": 4
}